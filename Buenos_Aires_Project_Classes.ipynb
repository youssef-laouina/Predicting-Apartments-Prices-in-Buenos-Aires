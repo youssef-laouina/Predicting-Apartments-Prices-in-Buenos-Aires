{
 "cells": [
  {
   "cell_type": "markdown",
   "metadata": {},
   "source": [
    "<h1 style=\"text-align: center; font-family: 'Times New Roman', serif; font-weight: bold; font-size: 60px;\">Predicting Apartments Prices in Buenos Aires, Argentina</h1>\n"
   ]
  },
  {
   "cell_type": "markdown",
   "metadata": {},
   "source": [
    "<div style=\"width: 90%; font-family: Times New Roman, serif; text-justify: inter-word; margin: 0 auto; font-size: 20px; text-align: justify;\">\n",
    "\n",
    "## **Summary**\n",
    "\n",
    "The `RealEstateApp` class is a Dash-based application designed for predicting real estate prices, orchestrating various components to provide a seamless user experience. The class builds a comprehensive web interface that allows users to input details such as surface area and geographic coordinates. Upon receiving these inputs, the application retrieves the address and predicts the property price using a pre-trained machine learning model. The user interface is carefully crafted, incorporating various sections such as form inputs for property details, a map for selecting coordinates, and an output area that displays the predicted price along with detailed information about the property's municipality.\n",
    "\n",
    "At the core of the `RealEstateApp` is the `CoordinateConverter` class, which handles the retrieval of addresses based on latitude and longitude. This class uses the Nominatim geolocator from the Geopy library to convert coordinates into human-readable addresses. The `RealEstateApp` leverages this converter to enrich the prediction process by validating whether the selected location falls within a specific region (e.g., Buenos Aires) and providing contextual information about the municipality, including statistical summaries. These functionalities are tied together through a series of Dash callbacks, which ensure that the user interface responds dynamically to user actions, such as clicking on the map or requesting a price prediction. The app also employs caching to improve performance, ensuring that frequently accessed data like addresses and predictions are readily available without redundant processing.\n",
    "\n",
    "Overall, the `RealEstateApp` and `CoordinateConverter` classes work in harmony to offer an interactive and efficient tool for real estate price prediction. The `RealEstateApp` manages the overall user experience, integrating layout, input handling, and data visualization, while the `CoordinateConverter` supports the app by providing essential address information, enhancing the accuracy and relevance of the predictions.\n",
    "\n",
    "</div>"
   ]
  },
  {
   "cell_type": "markdown",
   "metadata": {},
   "source": [
    "<div style=\"width: 90%; font-family: Times New Roman, serif; text-justify: inter-word; margin: 0 auto; font-size: 20px;\">\n",
    "\n",
    "## **Wrangling the data**\n"
   ]
  },
  {
   "cell_type": "code",
   "execution_count": 1,
   "metadata": {},
   "outputs": [
    {
     "name": "stderr",
     "output_type": "stream",
     "text": [
      "2024-08-13 20:01:06,851 - DEBUG - Reading CSV file from data/buenos-aires-real-estate.csv\n",
      "2024-08-13 20:01:07,046 - DEBUG - Subsetting data: Selecting only Apartments in Capital Federal, less than $400,000\n",
      "2024-08-13 20:01:07,085 - DEBUG - Removing outliers: Strategy --> Quantiles based on get_quantile_category() analysis\n",
      "2024-08-13 20:01:07,087 - DEBUG - Extracting relevant information from columns\n",
      "2024-08-13 20:01:07,106 - DEBUG - Dropping null columns: Strategy --> get_nan_columns() analysis (50%+ null columns will be dropped.)\n",
      "2024-08-13 20:01:07,110 - DEBUG - Dropping irrelevant columns.\n",
      "2024-08-13 20:01:07,115 - DEBUG - Removing empty rows from municipality column.\n",
      "2024-08-13 20:01:07,119 - DEBUG - Dropping null values.\n",
      "2024-08-13 20:01:07,121 - DEBUG - Wrangling complete, returning dataframe with proper headings\n"
     ]
    }
   ],
   "source": [
    "from classes.RealEstateDataWragler import DataWrangler\n",
    "\n",
    "data_url = DataWrangler('data/buenos-aires-real-estate.csv')\n",
    "df = data_url.wrangle()"
   ]
  },
  {
   "cell_type": "markdown",
   "metadata": {},
   "source": [
    "<div style=\"width: 90%; font-family: Times New Roman, serif; text-justify: inter-word; margin: 0 auto; font-size: 20px;\">\n",
    "\n",
    "## **Training the model**"
   ]
  },
  {
   "cell_type": "code",
   "execution_count": 2,
   "metadata": {},
   "outputs": [
    {
     "name": "stderr",
     "output_type": "stream",
     "text": [
      "2024-08-13 20:01:08,249 - DEBUG - RealEstateRegressor initialized.\n",
      "2024-08-13 20:01:08,250 - DEBUG - Pipeline started.\n",
      "2024-08-13 20:01:08,250 - DEBUG - Processing data...\n",
      "2024-08-13 20:01:08,252 - DEBUG - Features and target variable prepared.\n",
      "2024-08-13 20:01:08,255 - DEBUG - Data split into training and testing sets.\n",
      "2024-08-13 20:01:08,258 - DEBUG - OLS regression model fitted to identify influential points.\n",
      "2024-08-13 20:01:11,859 - DEBUG - Influential points removed from training data.\n",
      "2024-08-13 20:01:11,860 - DEBUG - Box-Cox transformation applied to features.\n",
      "2024-08-13 20:01:11,863 - DEBUG - Data scaled using StandardScaler.\n",
      "2024-08-13 20:01:11,864 - DEBUG - Data processing complete.\n",
      "2024-08-13 20:01:11,864 - DEBUG - Fitting model...\n",
      "2024-08-13 20:01:15,313 - DEBUG - Gradient Boosting Regressor model fitted.\n",
      "2024-08-13 20:01:15,313 - DEBUG - Model fitting complete.\n",
      "2024-08-13 20:01:15,314 - DEBUG - Scaler stored at results/scaler.pkl.\n",
      "2024-08-13 20:01:15,338 - DEBUG - Model stored at results/model.pkl.\n",
      "2024-08-13 20:01:15,339 - DEBUG - Pipeline completed successfully.\n"
     ]
    }
   ],
   "source": [
    "from classes.RealEstatePredictor import RealEstateRegressor\n",
    "\n",
    "regressor = RealEstateRegressor(df)\n",
    "regressor.run_pipeline()"
   ]
  },
  {
   "cell_type": "markdown",
   "metadata": {},
   "source": [
    "<div style=\"width: 90%; font-family: Times New Roman, serif; text-justify: inter-word; margin: 0 auto; font-size: 20px;\">\n",
    "\n",
    "## **Restoring the model**"
   ]
  },
  {
   "cell_type": "code",
   "execution_count": 3,
   "metadata": {},
   "outputs": [],
   "source": [
    "import pickle\n",
    "\n",
    "model = pickle.load(open('results/model.pkl', 'rb'))\n",
    "scaler = pickle.load(open('results/scaler.pkl', 'rb'))"
   ]
  },
  {
   "cell_type": "markdown",
   "metadata": {},
   "source": [
    "<div style=\"width: 90%; font-family: Times New Roman, serif; text-justify: inter-word; margin: 0 auto; font-size: 20px;\">\n",
    "\n",
    "## **Deploying the app**"
   ]
  },
  {
   "cell_type": "code",
   "execution_count": 4,
   "metadata": {},
   "outputs": [
    {
     "name": "stderr",
     "output_type": "stream",
     "text": [
      "2024-08-13 20:01:16,473 - DEBUG - Converted retries value: 2 -> Retry(total=2, connect=None, read=None, redirect=None, status=None)\n",
      "2024-08-13 20:01:16,474 - DEBUG - Converted retries value: 2 -> Retry(total=2, connect=None, read=None, redirect=None, status=None)\n",
      "2024-08-13 20:01:16,531 - DEBUG - Starting new HTTP connection (1): 127.0.0.1:8050\n",
      "2024-08-13 20:01:16,537 - DEBUG - http://127.0.0.1:8050 \"GET /_alive_8a6d6a06-f298-4c64-adc8-04322d2664ee HTTP/11\" 200 5\n"
     ]
    },
    {
     "data": {
      "text/html": [
       "\n",
       "        <iframe\n",
       "            width=\"100%\"\n",
       "            height=\"650\"\n",
       "            src=\"http://127.0.0.1:8050/\"\n",
       "            frameborder=\"0\"\n",
       "            allowfullscreen\n",
       "            \n",
       "        ></iframe>\n",
       "        "
      ],
      "text/plain": [
       "<IPython.lib.display.IFrame at 0x2453711e1b0>"
      ]
     },
     "metadata": {},
     "output_type": "display_data"
    }
   ],
   "source": [
    "from classes.RealEstateAppDeployer import RealEstateApp\n",
    "\n",
    "app = RealEstateApp(df, model, scaler).run()"
   ]
  }
 ],
 "metadata": {
  "kernelspec": {
   "display_name": "Python 3",
   "language": "python",
   "name": "python3"
  },
  "language_info": {
   "codemirror_mode": {
    "name": "ipython",
    "version": 3
   },
   "file_extension": ".py",
   "mimetype": "text/x-python",
   "name": "python",
   "nbconvert_exporter": "python",
   "pygments_lexer": "ipython3",
   "version": "3.12.2"
  }
 },
 "nbformat": 4,
 "nbformat_minor": 2
}
